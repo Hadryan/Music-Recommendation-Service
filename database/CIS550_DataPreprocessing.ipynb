{
  "nbformat": 4,
  "nbformat_minor": 0,
  "metadata": {
    "colab": {
      "name": "CIS550 PROJECT.ipynb",
      "provenance": [],
      "collapsed_sections": [],
      "toc_visible": true
    },
    "kernelspec": {
      "display_name": "Python 3",
      "name": "python3"
    }
  },
  "cells": [
    {
      "cell_type": "code",
      "metadata": {
        "colab": {
          "base_uri": "https://localhost:8080/"
        },
        "id": "MtH7qyFtpTWJ",
        "outputId": "b854e19b-d17a-460e-b371-a023dba39882"
      },
      "source": [
        "!pip3 install pandas==1.0.5"
      ],
      "execution_count": null,
      "outputs": [
        {
          "output_type": "stream",
          "text": [
            "Requirement already satisfied: pandas==1.0.5 in /usr/local/lib/python3.6/dist-packages (1.0.5)\n",
            "Requirement already satisfied: numpy>=1.13.3 in /usr/local/lib/python3.6/dist-packages (from pandas==1.0.5) (1.18.5)\n",
            "Requirement already satisfied: pytz>=2017.2 in /usr/local/lib/python3.6/dist-packages (from pandas==1.0.5) (2018.9)\n",
            "Requirement already satisfied: python-dateutil>=2.6.1 in /usr/local/lib/python3.6/dist-packages (from pandas==1.0.5) (2.8.1)\n",
            "Requirement already satisfied: six>=1.5 in /usr/local/lib/python3.6/dist-packages (from python-dateutil>=2.6.1->pandas==1.0.5) (1.15.0)\n"
          ],
          "name": "stdout"
        }
      ]
    },
    {
      "cell_type": "code",
      "metadata": {
        "colab": {
          "base_uri": "https://localhost:8080/"
        },
        "id": "sNTT6Pi1pWTp",
        "outputId": "72449cbe-6c86-46a6-93b4-037a333d0b7a"
      },
      "source": [
        "import pandas as pd\n",
        "print(pd.__version__ == '1.0.5')"
      ],
      "execution_count": null,
      "outputs": [
        {
          "output_type": "stream",
          "text": [
            "True\n"
          ],
          "name": "stdout"
        }
      ]
    },
    {
      "cell_type": "markdown",
      "metadata": {
        "id": "1lIuf8bAI_ue"
      },
      "source": [
        "# BB100"
      ]
    },
    {
      "cell_type": "code",
      "metadata": {
        "colab": {
          "base_uri": "https://localhost:8080/",
          "height": 210
        },
        "id": "_lCzs2-zpdXZ",
        "outputId": "19d62bc4-f5b7-4591-9c05-c2102ccd1824"
      },
      "source": [
        "df = pd.read_csv('/content/billboardHot100_1999-2019.csv', index_col=0, engine='python',encoding='utf-8', error_bad_lines=False) \n",
        "df_new = df.drop(['Lyrics', 'Writing.Credits','Features'], axis=1)\n",
        "df_new.head(3)"
      ],
      "execution_count": null,
      "outputs": [
        {
          "output_type": "execute_result",
          "data": {
            "text/html": [
              "<div>\n",
              "<style scoped>\n",
              "    .dataframe tbody tr th:only-of-type {\n",
              "        vertical-align: middle;\n",
              "    }\n",
              "\n",
              "    .dataframe tbody tr th {\n",
              "        vertical-align: top;\n",
              "    }\n",
              "\n",
              "    .dataframe thead th {\n",
              "        text-align: right;\n",
              "    }\n",
              "</style>\n",
              "<table border=\"1\" class=\"dataframe\">\n",
              "  <thead>\n",
              "    <tr style=\"text-align: right;\">\n",
              "      <th></th>\n",
              "      <th>Artists</th>\n",
              "      <th>Name</th>\n",
              "      <th>Weekly.rank</th>\n",
              "      <th>Peak.position</th>\n",
              "      <th>Weeks.on.chart</th>\n",
              "      <th>Week</th>\n",
              "      <th>Date</th>\n",
              "      <th>Genre</th>\n",
              "    </tr>\n",
              "  </thead>\n",
              "  <tbody>\n",
              "    <tr>\n",
              "      <th>1</th>\n",
              "      <td>Lil Nas,</td>\n",
              "      <td>Old Town Road</td>\n",
              "      <td>1</td>\n",
              "      <td>1.0</td>\n",
              "      <td>7.0</td>\n",
              "      <td>2019-07-06</td>\n",
              "      <td>April 5, 2019</td>\n",
              "      <td>Country,Atlanta,Alternative Country,Hip-Hop,Tr...</td>\n",
              "    </tr>\n",
              "    <tr>\n",
              "      <th>2</th>\n",
              "      <td>Shawn Mendes, Camila Cabello</td>\n",
              "      <td>Senorita</td>\n",
              "      <td>2</td>\n",
              "      <td>NaN</td>\n",
              "      <td>NaN</td>\n",
              "      <td>2019-07-06</td>\n",
              "      <td>June 21, 2019</td>\n",
              "      <td>Pop</td>\n",
              "    </tr>\n",
              "    <tr>\n",
              "      <th>3</th>\n",
              "      <td>Billie Eilish</td>\n",
              "      <td>Bad Guy</td>\n",
              "      <td>3</td>\n",
              "      <td>2.0</td>\n",
              "      <td>13.0</td>\n",
              "      <td>2019-07-06</td>\n",
              "      <td>March 29, 2019</td>\n",
              "      <td>Hip-Hop,Dark Pop,House,Trap,Memes,Alternative ...</td>\n",
              "    </tr>\n",
              "  </tbody>\n",
              "</table>\n",
              "</div>"
            ],
            "text/plain": [
              "                        Artists  ...                                              Genre\n",
              "1                      Lil Nas,  ...  Country,Atlanta,Alternative Country,Hip-Hop,Tr...\n",
              "2  Shawn Mendes, Camila Cabello  ...                                                Pop\n",
              "3                 Billie Eilish  ...  Hip-Hop,Dark Pop,House,Trap,Memes,Alternative ...\n",
              "\n",
              "[3 rows x 8 columns]"
            ]
          },
          "metadata": {
            "tags": []
          },
          "execution_count": 52
        }
      ]
    },
    {
      "cell_type": "code",
      "metadata": {
        "colab": {
          "base_uri": "https://localhost:8080/",
          "height": 193
        },
        "id": "R3Xv40-npo5-",
        "outputId": "476b54e6-78f6-48eb-970e-bfc917761764"
      },
      "source": [
        "df_new['Artists'] = df_new['Artists'].str.split(',').tolist()\n",
        "df_new = df_new.explode('Artists')\n",
        "df_new['Artists'] = df_new['Artists'].replace(r'^\\s*$', np.nan, regex=True)\n",
        "df_new.head(3)"
      ],
      "execution_count": null,
      "outputs": [
        {
          "output_type": "execute_result",
          "data": {
            "text/html": [
              "<div>\n",
              "<style scoped>\n",
              "    .dataframe tbody tr th:only-of-type {\n",
              "        vertical-align: middle;\n",
              "    }\n",
              "\n",
              "    .dataframe tbody tr th {\n",
              "        vertical-align: top;\n",
              "    }\n",
              "\n",
              "    .dataframe thead th {\n",
              "        text-align: right;\n",
              "    }\n",
              "</style>\n",
              "<table border=\"1\" class=\"dataframe\">\n",
              "  <thead>\n",
              "    <tr style=\"text-align: right;\">\n",
              "      <th></th>\n",
              "      <th>Artists</th>\n",
              "      <th>Name</th>\n",
              "      <th>Weekly.rank</th>\n",
              "      <th>Peak.position</th>\n",
              "      <th>Weeks.on.chart</th>\n",
              "      <th>Week</th>\n",
              "      <th>Date</th>\n",
              "      <th>Genre</th>\n",
              "    </tr>\n",
              "  </thead>\n",
              "  <tbody>\n",
              "    <tr>\n",
              "      <th>1</th>\n",
              "      <td>Lil Nas</td>\n",
              "      <td>Old Town Road</td>\n",
              "      <td>1</td>\n",
              "      <td>1.0</td>\n",
              "      <td>7.0</td>\n",
              "      <td>2019-07-06</td>\n",
              "      <td>April 5, 2019</td>\n",
              "      <td>Country,Atlanta,Alternative Country,Hip-Hop,Tr...</td>\n",
              "    </tr>\n",
              "    <tr>\n",
              "      <th>1</th>\n",
              "      <td>NaN</td>\n",
              "      <td>Old Town Road</td>\n",
              "      <td>1</td>\n",
              "      <td>1.0</td>\n",
              "      <td>7.0</td>\n",
              "      <td>2019-07-06</td>\n",
              "      <td>April 5, 2019</td>\n",
              "      <td>Country,Atlanta,Alternative Country,Hip-Hop,Tr...</td>\n",
              "    </tr>\n",
              "    <tr>\n",
              "      <th>2</th>\n",
              "      <td>Shawn Mendes</td>\n",
              "      <td>Senorita</td>\n",
              "      <td>2</td>\n",
              "      <td>NaN</td>\n",
              "      <td>NaN</td>\n",
              "      <td>2019-07-06</td>\n",
              "      <td>June 21, 2019</td>\n",
              "      <td>Pop</td>\n",
              "    </tr>\n",
              "  </tbody>\n",
              "</table>\n",
              "</div>"
            ],
            "text/plain": [
              "        Artists  ...                                              Genre\n",
              "1       Lil Nas  ...  Country,Atlanta,Alternative Country,Hip-Hop,Tr...\n",
              "1           NaN  ...  Country,Atlanta,Alternative Country,Hip-Hop,Tr...\n",
              "2  Shawn Mendes  ...                                                Pop\n",
              "\n",
              "[3 rows x 8 columns]"
            ]
          },
          "metadata": {
            "tags": []
          },
          "execution_count": 53
        }
      ]
    },
    {
      "cell_type": "code",
      "metadata": {
        "colab": {
          "base_uri": "https://localhost:8080/",
          "height": 289
        },
        "id": "J635nCr-HDH4",
        "outputId": "0e1aa31e-d6bf-4277-9cfc-26c717c5e42b"
      },
      "source": [
        "BB_200 = df_new\n",
        "BB_200.columns = ['Artists', 'AlbumName','WeeklyRank','Peak','WeeksChart','Week','Date','Genre']\n",
        "BB_200['Peak'] = BB_200['Peak'].fillna(0)\n",
        "BB_200['Peak'] = BB_200['Peak'].astype(int)\n",
        "BB_200['WeeksChart'] = BB_200['WeeksChart'].fillna(0)\n",
        "BB_200['WeeksChart'] = BB_200['WeeksChart'].astype(int)\n",
        "BB_200 = BB_200.dropna()\n",
        "BB_200.head(5) "
      ],
      "execution_count": null,
      "outputs": [
        {
          "output_type": "execute_result",
          "data": {
            "text/html": [
              "<div>\n",
              "<style scoped>\n",
              "    .dataframe tbody tr th:only-of-type {\n",
              "        vertical-align: middle;\n",
              "    }\n",
              "\n",
              "    .dataframe tbody tr th {\n",
              "        vertical-align: top;\n",
              "    }\n",
              "\n",
              "    .dataframe thead th {\n",
              "        text-align: right;\n",
              "    }\n",
              "</style>\n",
              "<table border=\"1\" class=\"dataframe\">\n",
              "  <thead>\n",
              "    <tr style=\"text-align: right;\">\n",
              "      <th></th>\n",
              "      <th>Artists</th>\n",
              "      <th>AlbumName</th>\n",
              "      <th>WeeklyRank</th>\n",
              "      <th>Peak</th>\n",
              "      <th>WeeksChart</th>\n",
              "      <th>Week</th>\n",
              "      <th>Date</th>\n",
              "      <th>Genre</th>\n",
              "    </tr>\n",
              "  </thead>\n",
              "  <tbody>\n",
              "    <tr>\n",
              "      <th>1</th>\n",
              "      <td>Lil Nas</td>\n",
              "      <td>Old Town Road</td>\n",
              "      <td>1</td>\n",
              "      <td>1</td>\n",
              "      <td>7</td>\n",
              "      <td>2019-07-06</td>\n",
              "      <td>April 5, 2019</td>\n",
              "      <td>Country,Atlanta,Alternative Country,Hip-Hop,Tr...</td>\n",
              "    </tr>\n",
              "    <tr>\n",
              "      <th>2</th>\n",
              "      <td>Shawn Mendes</td>\n",
              "      <td>Senorita</td>\n",
              "      <td>2</td>\n",
              "      <td>0</td>\n",
              "      <td>0</td>\n",
              "      <td>2019-07-06</td>\n",
              "      <td>June 21, 2019</td>\n",
              "      <td>Pop</td>\n",
              "    </tr>\n",
              "    <tr>\n",
              "      <th>2</th>\n",
              "      <td>Camila Cabello</td>\n",
              "      <td>Senorita</td>\n",
              "      <td>2</td>\n",
              "      <td>0</td>\n",
              "      <td>0</td>\n",
              "      <td>2019-07-06</td>\n",
              "      <td>June 21, 2019</td>\n",
              "      <td>Pop</td>\n",
              "    </tr>\n",
              "    <tr>\n",
              "      <th>3</th>\n",
              "      <td>Billie Eilish</td>\n",
              "      <td>Bad Guy</td>\n",
              "      <td>3</td>\n",
              "      <td>2</td>\n",
              "      <td>13</td>\n",
              "      <td>2019-07-06</td>\n",
              "      <td>March 29, 2019</td>\n",
              "      <td>Hip-Hop,Dark Pop,House,Trap,Memes,Alternative ...</td>\n",
              "    </tr>\n",
              "    <tr>\n",
              "      <th>4</th>\n",
              "      <td>Khalid</td>\n",
              "      <td>Talk</td>\n",
              "      <td>4</td>\n",
              "      <td>3</td>\n",
              "      <td>20</td>\n",
              "      <td>2019-07-06</td>\n",
              "      <td>February 7, 2019</td>\n",
              "      <td>Synth-Pop,Pop</td>\n",
              "    </tr>\n",
              "  </tbody>\n",
              "</table>\n",
              "</div>"
            ],
            "text/plain": [
              "           Artists  ...                                              Genre\n",
              "1          Lil Nas  ...  Country,Atlanta,Alternative Country,Hip-Hop,Tr...\n",
              "2     Shawn Mendes  ...                                                Pop\n",
              "2   Camila Cabello  ...                                                Pop\n",
              "3    Billie Eilish  ...  Hip-Hop,Dark Pop,House,Trap,Memes,Alternative ...\n",
              "4           Khalid  ...                                      Synth-Pop,Pop\n",
              "\n",
              "[5 rows x 8 columns]"
            ]
          },
          "metadata": {
            "tags": []
          },
          "execution_count": 54
        }
      ]
    },
    {
      "cell_type": "code",
      "metadata": {
        "colab": {
          "base_uri": "https://localhost:8080/",
          "height": 297
        },
        "id": "1BO1ETFbHG9Z",
        "outputId": "a5f02e97-ae6c-45aa-9d7c-7ea20962d6ff"
      },
      "source": [
        "BB_final = BB_200[BB_200['WeeklyRank']<=20]\n",
        "BB_final.describe()"
      ],
      "execution_count": null,
      "outputs": [
        {
          "output_type": "execute_result",
          "data": {
            "text/html": [
              "<div>\n",
              "<style scoped>\n",
              "    .dataframe tbody tr th:only-of-type {\n",
              "        vertical-align: middle;\n",
              "    }\n",
              "\n",
              "    .dataframe tbody tr th {\n",
              "        vertical-align: top;\n",
              "    }\n",
              "\n",
              "    .dataframe thead th {\n",
              "        text-align: right;\n",
              "    }\n",
              "</style>\n",
              "<table border=\"1\" class=\"dataframe\">\n",
              "  <thead>\n",
              "    <tr style=\"text-align: right;\">\n",
              "      <th></th>\n",
              "      <th>WeeklyRank</th>\n",
              "      <th>Peak</th>\n",
              "      <th>WeeksChart</th>\n",
              "    </tr>\n",
              "  </thead>\n",
              "  <tbody>\n",
              "    <tr>\n",
              "      <th>count</th>\n",
              "      <td>19344.000000</td>\n",
              "      <td>19344.000000</td>\n",
              "      <td>19344.000000</td>\n",
              "    </tr>\n",
              "    <tr>\n",
              "      <th>mean</th>\n",
              "      <td>10.476272</td>\n",
              "      <td>6.862852</td>\n",
              "      <td>14.773211</td>\n",
              "    </tr>\n",
              "    <tr>\n",
              "      <th>std</th>\n",
              "      <td>5.762507</td>\n",
              "      <td>5.524167</td>\n",
              "      <td>8.721753</td>\n",
              "    </tr>\n",
              "    <tr>\n",
              "      <th>min</th>\n",
              "      <td>1.000000</td>\n",
              "      <td>0.000000</td>\n",
              "      <td>0.000000</td>\n",
              "    </tr>\n",
              "    <tr>\n",
              "      <th>25%</th>\n",
              "      <td>5.000000</td>\n",
              "      <td>2.000000</td>\n",
              "      <td>8.000000</td>\n",
              "    </tr>\n",
              "    <tr>\n",
              "      <th>50%</th>\n",
              "      <td>11.000000</td>\n",
              "      <td>5.000000</td>\n",
              "      <td>14.000000</td>\n",
              "    </tr>\n",
              "    <tr>\n",
              "      <th>75%</th>\n",
              "      <td>15.000000</td>\n",
              "      <td>11.000000</td>\n",
              "      <td>20.000000</td>\n",
              "    </tr>\n",
              "    <tr>\n",
              "      <th>max</th>\n",
              "      <td>20.000000</td>\n",
              "      <td>20.000000</td>\n",
              "      <td>75.000000</td>\n",
              "    </tr>\n",
              "  </tbody>\n",
              "</table>\n",
              "</div>"
            ],
            "text/plain": [
              "         WeeklyRank          Peak    WeeksChart\n",
              "count  19344.000000  19344.000000  19344.000000\n",
              "mean      10.476272      6.862852     14.773211\n",
              "std        5.762507      5.524167      8.721753\n",
              "min        1.000000      0.000000      0.000000\n",
              "25%        5.000000      2.000000      8.000000\n",
              "50%       11.000000      5.000000     14.000000\n",
              "75%       15.000000     11.000000     20.000000\n",
              "max       20.000000     20.000000     75.000000"
            ]
          },
          "metadata": {
            "tags": []
          },
          "execution_count": 56
        }
      ]
    },
    {
      "cell_type": "code",
      "metadata": {
        "colab": {
          "base_uri": "https://localhost:8080/",
          "height": 173
        },
        "id": "UDabEzJDHRjY",
        "outputId": "c5766473-c29a-48d3-eba5-640ac81f4019"
      },
      "source": [
        "BB_final[['Artists','AlbumName','Week','Date','Genre']].describe()"
      ],
      "execution_count": null,
      "outputs": [
        {
          "output_type": "execute_result",
          "data": {
            "text/html": [
              "<div>\n",
              "<style scoped>\n",
              "    .dataframe tbody tr th:only-of-type {\n",
              "        vertical-align: middle;\n",
              "    }\n",
              "\n",
              "    .dataframe tbody tr th {\n",
              "        vertical-align: top;\n",
              "    }\n",
              "\n",
              "    .dataframe thead th {\n",
              "        text-align: right;\n",
              "    }\n",
              "</style>\n",
              "<table border=\"1\" class=\"dataframe\">\n",
              "  <thead>\n",
              "    <tr style=\"text-align: right;\">\n",
              "      <th></th>\n",
              "      <th>Artists</th>\n",
              "      <th>AlbumName</th>\n",
              "      <th>Week</th>\n",
              "      <th>Date</th>\n",
              "      <th>Genre</th>\n",
              "    </tr>\n",
              "  </thead>\n",
              "  <tbody>\n",
              "    <tr>\n",
              "      <th>count</th>\n",
              "      <td>19344</td>\n",
              "      <td>19344</td>\n",
              "      <td>19344</td>\n",
              "      <td>19344</td>\n",
              "      <td>19344</td>\n",
              "    </tr>\n",
              "    <tr>\n",
              "      <th>unique</th>\n",
              "      <td>657</td>\n",
              "      <td>1538</td>\n",
              "      <td>1016</td>\n",
              "      <td>1185</td>\n",
              "      <td>880</td>\n",
              "    </tr>\n",
              "    <tr>\n",
              "      <th>top</th>\n",
              "      <td>Rihanna</td>\n",
              "      <td>I Like It</td>\n",
              "      <td>2018-10-20</td>\n",
              "      <td>April 6, 2018</td>\n",
              "      <td>Rap</td>\n",
              "    </tr>\n",
              "    <tr>\n",
              "      <th>freq</th>\n",
              "      <td>381</td>\n",
              "      <td>104</td>\n",
              "      <td>30</td>\n",
              "      <td>104</td>\n",
              "      <td>1470</td>\n",
              "    </tr>\n",
              "  </tbody>\n",
              "</table>\n",
              "</div>"
            ],
            "text/plain": [
              "        Artists  AlbumName        Week           Date  Genre\n",
              "count     19344      19344       19344          19344  19344\n",
              "unique      657       1538        1016           1185    880\n",
              "top     Rihanna  I Like It  2018-10-20  April 6, 2018    Rap\n",
              "freq        381        104          30            104   1470"
            ]
          },
          "metadata": {
            "tags": []
          },
          "execution_count": 57
        }
      ]
    },
    {
      "cell_type": "code",
      "metadata": {
        "colab": {
          "base_uri": "https://localhost:8080/"
        },
        "id": "rPyI5iqPTW8k",
        "outputId": "79002fe4-4e07-4a36-ae4e-29e9cb45702e"
      },
      "source": [
        "BB_final.dtypes"
      ],
      "execution_count": null,
      "outputs": [
        {
          "output_type": "execute_result",
          "data": {
            "text/plain": [
              "Artists       object\n",
              "AlbumName     object\n",
              "WeeklyRank     int64\n",
              "Peak           int64\n",
              "WeeksChart     int64\n",
              "Week          object\n",
              "Date          object\n",
              "Genre         object\n",
              "dtype: object"
            ]
          },
          "metadata": {
            "tags": []
          },
          "execution_count": 58
        }
      ]
    },
    {
      "cell_type": "code",
      "metadata": {
        "id": "9ccjxXX3IXCI"
      },
      "source": [
        "#save to csv\n",
        "from google.colab import files\n",
        "BB_final.to_csv('BB_final.csv', header=True, index=False, sep='\\t', mode='a')\n",
        "files.download('BB_final.csv')"
      ],
      "execution_count": null,
      "outputs": []
    },
    {
      "cell_type": "markdown",
      "metadata": {
        "id": "_i0O_tRmG3ZV"
      },
      "source": [
        "# Spotify"
      ]
    },
    {
      "cell_type": "code",
      "metadata": {
        "colab": {
          "base_uri": "https://localhost:8080/",
          "height": 142
        },
        "id": "AJkpAkAOR12n",
        "outputId": "0f549bee-6f3f-47d8-9876-0122fb117efc"
      },
      "source": [
        "import pandas as pd\n",
        "Spotify = pd.read_csv('/content/Spotify_new.csv', index_col=0) \n",
        "Spotify.reset_index(inplace=True)\n",
        "Spotify.head(3)"
      ],
      "execution_count": null,
      "outputs": [
        {
          "output_type": "execute_result",
          "data": {
            "text/html": [
              "<div>\n",
              "<style scoped>\n",
              "    .dataframe tbody tr th:only-of-type {\n",
              "        vertical-align: middle;\n",
              "    }\n",
              "\n",
              "    .dataframe tbody tr th {\n",
              "        vertical-align: top;\n",
              "    }\n",
              "\n",
              "    .dataframe thead th {\n",
              "        text-align: right;\n",
              "    }\n",
              "</style>\n",
              "<table border=\"1\" class=\"dataframe\">\n",
              "  <thead>\n",
              "    <tr style=\"text-align: right;\">\n",
              "      <th></th>\n",
              "      <th>Name</th>\n",
              "      <th>Artist</th>\n",
              "      <th>Streams</th>\n",
              "      <th>Week</th>\n",
              "    </tr>\n",
              "  </thead>\n",
              "  <tbody>\n",
              "    <tr>\n",
              "      <th>0</th>\n",
              "      <td>In My Feelings</td>\n",
              "      <td>Drake</td>\n",
              "      <td>30747676</td>\n",
              "      <td>2018-07-20</td>\n",
              "    </tr>\n",
              "    <tr>\n",
              "      <th>1</th>\n",
              "      <td>Lucid Dreams</td>\n",
              "      <td>Juice WRLD</td>\n",
              "      <td>12930705</td>\n",
              "      <td>2018-07-20</td>\n",
              "    </tr>\n",
              "    <tr>\n",
              "      <th>2</th>\n",
              "      <td>Nonstop</td>\n",
              "      <td>Drake</td>\n",
              "      <td>12312859</td>\n",
              "      <td>2018-07-20</td>\n",
              "    </tr>\n",
              "  </tbody>\n",
              "</table>\n",
              "</div>"
            ],
            "text/plain": [
              "             Name      Artist   Streams        Week\n",
              "0  In My Feelings       Drake  30747676  2018-07-20\n",
              "1    Lucid Dreams  Juice WRLD  12930705  2018-07-20\n",
              "2         Nonstop       Drake  12312859  2018-07-20"
            ]
          },
          "metadata": {
            "tags": []
          },
          "execution_count": 1
        }
      ]
    },
    {
      "cell_type": "code",
      "metadata": {
        "colab": {
          "base_uri": "https://localhost:8080/"
        },
        "id": "aRWjQrZ8B4ps",
        "outputId": "7ab37a73-9bc9-461c-e293-3c763d2f6bd8"
      },
      "source": [
        "Spotify.dtypes"
      ],
      "execution_count": null,
      "outputs": [
        {
          "output_type": "execute_result",
          "data": {
            "text/plain": [
              "Name       object\n",
              "Artist     object\n",
              "Streams     int64\n",
              "Week       object\n",
              "dtype: object"
            ]
          },
          "metadata": {
            "tags": []
          },
          "execution_count": 20
        }
      ]
    },
    {
      "cell_type": "code",
      "metadata": {
        "colab": {
          "base_uri": "https://localhost:8080/",
          "height": 173
        },
        "id": "uIeGweutsk2E",
        "outputId": "84669124-4f30-46c7-f69a-6b7d798e43bd"
      },
      "source": [
        "Spotify[['Name','Artist','Week']].describe()"
      ],
      "execution_count": null,
      "outputs": [
        {
          "output_type": "execute_result",
          "data": {
            "text/html": [
              "<div>\n",
              "<style scoped>\n",
              "    .dataframe tbody tr th:only-of-type {\n",
              "        vertical-align: middle;\n",
              "    }\n",
              "\n",
              "    .dataframe tbody tr th {\n",
              "        vertical-align: top;\n",
              "    }\n",
              "\n",
              "    .dataframe thead th {\n",
              "        text-align: right;\n",
              "    }\n",
              "</style>\n",
              "<table border=\"1\" class=\"dataframe\">\n",
              "  <thead>\n",
              "    <tr style=\"text-align: right;\">\n",
              "      <th></th>\n",
              "      <th>Name</th>\n",
              "      <th>Artist</th>\n",
              "      <th>Week</th>\n",
              "    </tr>\n",
              "  </thead>\n",
              "  <tbody>\n",
              "    <tr>\n",
              "      <th>count</th>\n",
              "      <td>26395</td>\n",
              "      <td>26395</td>\n",
              "      <td>26395</td>\n",
              "    </tr>\n",
              "    <tr>\n",
              "      <th>unique</th>\n",
              "      <td>2525</td>\n",
              "      <td>595</td>\n",
              "      <td>132</td>\n",
              "    </tr>\n",
              "    <tr>\n",
              "      <th>top</th>\n",
              "      <td>Congratulations</td>\n",
              "      <td>Post Malone</td>\n",
              "      <td>2018-04-06</td>\n",
              "    </tr>\n",
              "    <tr>\n",
              "      <th>freq</th>\n",
              "      <td>132</td>\n",
              "      <td>1029</td>\n",
              "      <td>200</td>\n",
              "    </tr>\n",
              "  </tbody>\n",
              "</table>\n",
              "</div>"
            ],
            "text/plain": [
              "                   Name       Artist        Week\n",
              "count             26395        26395       26395\n",
              "unique             2525          595         132\n",
              "top     Congratulations  Post Malone  2018-04-06\n",
              "freq                132         1029         200"
            ]
          },
          "metadata": {
            "tags": []
          },
          "execution_count": 3
        }
      ]
    },
    {
      "cell_type": "markdown",
      "metadata": {
        "id": "v13fb7kjIc2S"
      },
      "source": [
        "# Artist"
      ]
    },
    {
      "cell_type": "code",
      "metadata": {
        "id": "F8liJVsHIcSu"
      },
      "source": [
        "A_df = pd.read_csv('artistDf.csv') \n",
        "A_df = A_df.drop(['X'], axis=1)\n",
        "A_df.columns = ['Artists', 'Follwers','Genres','NumAlbums','YearFirstAlbum','Gender','GroupSolo']\n",
        "A_df.head(3)"
      ],
      "execution_count": null,
      "outputs": []
    },
    {
      "cell_type": "code",
      "metadata": {
        "id": "NHDFbEGaIlLP"
      },
      "source": [
        "A_df.describe()"
      ],
      "execution_count": null,
      "outputs": []
    },
    {
      "cell_type": "code",
      "metadata": {
        "colab": {
          "base_uri": "https://localhost:8080/",
          "height": 173
        },
        "id": "b4lwSZJzFGyH",
        "outputId": "caa66b28-8cbb-4379-941a-ee72e4e2e4dc"
      },
      "source": [
        "A_df[['Artists','Genres','Gender','GroupSolo']].describe()"
      ],
      "execution_count": null,
      "outputs": [
        {
          "output_type": "execute_result",
          "data": {
            "text/html": [
              "<div>\n",
              "<style scoped>\n",
              "    .dataframe tbody tr th:only-of-type {\n",
              "        vertical-align: middle;\n",
              "    }\n",
              "\n",
              "    .dataframe tbody tr th {\n",
              "        vertical-align: top;\n",
              "    }\n",
              "\n",
              "    .dataframe thead th {\n",
              "        text-align: right;\n",
              "    }\n",
              "</style>\n",
              "<table border=\"1\" class=\"dataframe\">\n",
              "  <thead>\n",
              "    <tr style=\"text-align: right;\">\n",
              "      <th></th>\n",
              "      <th>Artists</th>\n",
              "      <th>Genres</th>\n",
              "      <th>Gender</th>\n",
              "      <th>GroupSolo</th>\n",
              "    </tr>\n",
              "  </thead>\n",
              "  <tbody>\n",
              "    <tr>\n",
              "      <th>count</th>\n",
              "      <td>1035</td>\n",
              "      <td>1017</td>\n",
              "      <td>951</td>\n",
              "      <td>1019</td>\n",
              "    </tr>\n",
              "    <tr>\n",
              "      <th>unique</th>\n",
              "      <td>1034</td>\n",
              "      <td>824</td>\n",
              "      <td>2</td>\n",
              "      <td>2</td>\n",
              "    </tr>\n",
              "    <tr>\n",
              "      <th>top</th>\n",
              "      <td>Reba McEntire</td>\n",
              "      <td>contemporary country,country,country road,mode...</td>\n",
              "      <td>M</td>\n",
              "      <td>Solo</td>\n",
              "    </tr>\n",
              "    <tr>\n",
              "      <th>freq</th>\n",
              "      <td>2</td>\n",
              "      <td>23</td>\n",
              "      <td>716</td>\n",
              "      <td>687</td>\n",
              "    </tr>\n",
              "  </tbody>\n",
              "</table>\n",
              "</div>"
            ],
            "text/plain": [
              "              Artists  ... GroupSolo\n",
              "count            1035  ...      1019\n",
              "unique           1034  ...         2\n",
              "top     Reba McEntire  ...      Solo\n",
              "freq                2  ...       687\n",
              "\n",
              "[4 rows x 4 columns]"
            ]
          },
          "metadata": {
            "tags": []
          },
          "execution_count": 21
        }
      ]
    },
    {
      "cell_type": "code",
      "metadata": {
        "colab": {
          "base_uri": "https://localhost:8080/"
        },
        "id": "HUEzdMPlm09D",
        "outputId": "2c6f654c-6cf5-43a0-c413-18b8b6721df3"
      },
      "source": [
        "A_df.dtypes"
      ],
      "execution_count": null,
      "outputs": [
        {
          "output_type": "execute_result",
          "data": {
            "text/plain": [
              "Artists           object\n",
              "Follwers           int64\n",
              "Genres            object\n",
              "NumAlbums          int64\n",
              "YearFirstAlbum     int64\n",
              "Gender            object\n",
              "GroupSolo         object\n",
              "dtype: object"
            ]
          },
          "metadata": {
            "tags": []
          },
          "execution_count": 7
        }
      ]
    },
    {
      "cell_type": "code",
      "metadata": {
        "colab": {
          "base_uri": "https://localhost:8080/",
          "height": 17
        },
        "id": "cFqlTsB-mqLk",
        "outputId": "ea526015-8e08-400e-dce5-a10bc92b4202"
      },
      "source": [
        "from google.colab import files\n",
        "A_df.to_csv('Artists.csv', header=True, index=False, sep='\\t', mode='a')\n",
        "files.download('Artists.csv')"
      ],
      "execution_count": null,
      "outputs": [
        {
          "output_type": "display_data",
          "data": {
            "application/javascript": [
              "\n",
              "    async function download(id, filename, size) {\n",
              "      if (!google.colab.kernel.accessAllowed) {\n",
              "        return;\n",
              "      }\n",
              "      const div = document.createElement('div');\n",
              "      const label = document.createElement('label');\n",
              "      label.textContent = `Downloading \"${filename}\": `;\n",
              "      div.appendChild(label);\n",
              "      const progress = document.createElement('progress');\n",
              "      progress.max = size;\n",
              "      div.appendChild(progress);\n",
              "      document.body.appendChild(div);\n",
              "\n",
              "      const buffers = [];\n",
              "      let downloaded = 0;\n",
              "\n",
              "      const channel = await google.colab.kernel.comms.open(id);\n",
              "      // Send a message to notify the kernel that we're ready.\n",
              "      channel.send({})\n",
              "\n",
              "      for await (const message of channel.messages) {\n",
              "        // Send a message to notify the kernel that we're ready.\n",
              "        channel.send({})\n",
              "        if (message.buffers) {\n",
              "          for (const buffer of message.buffers) {\n",
              "            buffers.push(buffer);\n",
              "            downloaded += buffer.byteLength;\n",
              "            progress.value = downloaded;\n",
              "          }\n",
              "        }\n",
              "      }\n",
              "      const blob = new Blob(buffers, {type: 'application/binary'});\n",
              "      const a = document.createElement('a');\n",
              "      a.href = window.URL.createObjectURL(blob);\n",
              "      a.download = filename;\n",
              "      div.appendChild(a);\n",
              "      a.click();\n",
              "      div.remove();\n",
              "    }\n",
              "  "
            ],
            "text/plain": [
              "<IPython.core.display.Javascript object>"
            ]
          },
          "metadata": {
            "tags": []
          }
        },
        {
          "output_type": "display_data",
          "data": {
            "application/javascript": [
              "download(\"download_b4dd2894-cfa6-4de7-962e-e82ffbbc105a\", \"Artists.csv\", 96029)"
            ],
            "text/plain": [
              "<IPython.core.display.Javascript object>"
            ]
          },
          "metadata": {
            "tags": []
          }
        }
      ]
    },
    {
      "cell_type": "markdown",
      "metadata": {
        "id": "njJgv3I6IqH-"
      },
      "source": [
        "# Grammy"
      ]
    },
    {
      "cell_type": "code",
      "metadata": {
        "colab": {
          "base_uri": "https://localhost:8080/",
          "height": 142
        },
        "id": "WNxXKKrFmzxf",
        "outputId": "a4fbadc9-e274-4aa6-e896-eccf1b430427"
      },
      "source": [
        "GrammyAlbums = pd.read_csv('grammyAlbums_199-2019.csv') \n",
        "GrammyAlbums= GrammyAlbums.drop(GrammyAlbums.columns[0], axis=1)\n",
        "GrammyAlbums.head(3)"
      ],
      "execution_count": null,
      "outputs": [
        {
          "output_type": "execute_result",
          "data": {
            "text/html": [
              "<div>\n",
              "<style scoped>\n",
              "    .dataframe tbody tr th:only-of-type {\n",
              "        vertical-align: middle;\n",
              "    }\n",
              "\n",
              "    .dataframe tbody tr th {\n",
              "        vertical-align: top;\n",
              "    }\n",
              "\n",
              "    .dataframe thead th {\n",
              "        text-align: right;\n",
              "    }\n",
              "</style>\n",
              "<table border=\"1\" class=\"dataframe\">\n",
              "  <thead>\n",
              "    <tr style=\"text-align: right;\">\n",
              "      <th></th>\n",
              "      <th>Award</th>\n",
              "      <th>GrammyYear</th>\n",
              "      <th>Genre</th>\n",
              "      <th>Album</th>\n",
              "      <th>Artist</th>\n",
              "    </tr>\n",
              "  </thead>\n",
              "  <tbody>\n",
              "    <tr>\n",
              "      <th>0</th>\n",
              "      <td>Album Of The Year</td>\n",
              "      <td>2018</td>\n",
              "      <td>General</td>\n",
              "      <td>Golden Hour</td>\n",
              "      <td>Kacey Musgraves</td>\n",
              "    </tr>\n",
              "    <tr>\n",
              "      <th>1</th>\n",
              "      <td>Best Traditional Pop Vocal Album</td>\n",
              "      <td>2018</td>\n",
              "      <td>Traditional Pop</td>\n",
              "      <td>My Way</td>\n",
              "      <td>Willie Nelson</td>\n",
              "    </tr>\n",
              "    <tr>\n",
              "      <th>2</th>\n",
              "      <td>Best Pop Vocal Album</td>\n",
              "      <td>2018</td>\n",
              "      <td>Pop</td>\n",
              "      <td>Sweetener</td>\n",
              "      <td>Ariana Grande</td>\n",
              "    </tr>\n",
              "  </tbody>\n",
              "</table>\n",
              "</div>"
            ],
            "text/plain": [
              "                              Award  GrammyYear  ...        Album           Artist\n",
              "0                 Album Of The Year        2018  ...  Golden Hour  Kacey Musgraves\n",
              "1  Best Traditional Pop Vocal Album        2018  ...       My Way    Willie Nelson\n",
              "2              Best Pop Vocal Album        2018  ...    Sweetener    Ariana Grande\n",
              "\n",
              "[3 rows x 5 columns]"
            ]
          },
          "metadata": {
            "tags": []
          },
          "execution_count": 17
        }
      ]
    },
    {
      "cell_type": "code",
      "metadata": {
        "colab": {
          "base_uri": "https://localhost:8080/"
        },
        "id": "DrMi8vzSq18_",
        "outputId": "8266286d-400e-413f-87f7-a2eca0affd26"
      },
      "source": [
        "print(len(GrammyAlbums))\n",
        "GrammyAlbums.groupby(['Award','GrammyYear']).ngroups\n",
        "#GrammyAlbums.dtypes"
      ],
      "execution_count": null,
      "outputs": [
        {
          "output_type": "stream",
          "text": [
            "935\n"
          ],
          "name": "stdout"
        },
        {
          "output_type": "execute_result",
          "data": {
            "text/plain": [
              "935"
            ]
          },
          "metadata": {
            "tags": []
          },
          "execution_count": 26
        }
      ]
    },
    {
      "cell_type": "code",
      "metadata": {
        "colab": {
          "base_uri": "https://localhost:8080/",
          "height": 17
        },
        "id": "ExEPnOl-rXiw",
        "outputId": "cc59d77c-4938-481b-b647-4dcf27c9e64c"
      },
      "source": [
        "GrammyAlbums.to_csv('GrammyAlbums.csv', header=True, index=False, sep='\\t', mode='a')\n",
        "files.download('GrammyAlbums.csv')"
      ],
      "execution_count": null,
      "outputs": [
        {
          "output_type": "display_data",
          "data": {
            "application/javascript": [
              "\n",
              "    async function download(id, filename, size) {\n",
              "      if (!google.colab.kernel.accessAllowed) {\n",
              "        return;\n",
              "      }\n",
              "      const div = document.createElement('div');\n",
              "      const label = document.createElement('label');\n",
              "      label.textContent = `Downloading \"${filename}\": `;\n",
              "      div.appendChild(label);\n",
              "      const progress = document.createElement('progress');\n",
              "      progress.max = size;\n",
              "      div.appendChild(progress);\n",
              "      document.body.appendChild(div);\n",
              "\n",
              "      const buffers = [];\n",
              "      let downloaded = 0;\n",
              "\n",
              "      const channel = await google.colab.kernel.comms.open(id);\n",
              "      // Send a message to notify the kernel that we're ready.\n",
              "      channel.send({})\n",
              "\n",
              "      for await (const message of channel.messages) {\n",
              "        // Send a message to notify the kernel that we're ready.\n",
              "        channel.send({})\n",
              "        if (message.buffers) {\n",
              "          for (const buffer of message.buffers) {\n",
              "            buffers.push(buffer);\n",
              "            downloaded += buffer.byteLength;\n",
              "            progress.value = downloaded;\n",
              "          }\n",
              "        }\n",
              "      }\n",
              "      const blob = new Blob(buffers, {type: 'application/binary'});\n",
              "      const a = document.createElement('a');\n",
              "      a.href = window.URL.createObjectURL(blob);\n",
              "      a.download = filename;\n",
              "      div.appendChild(a);\n",
              "      a.click();\n",
              "      div.remove();\n",
              "    }\n",
              "  "
            ],
            "text/plain": [
              "<IPython.core.display.Javascript object>"
            ]
          },
          "metadata": {
            "tags": []
          }
        },
        {
          "output_type": "display_data",
          "data": {
            "application/javascript": [
              "download(\"download_f485e92e-2748-46d3-ba97-9e5d90835c49\", \"GrammyAlbums.csv\", 82926)"
            ],
            "text/plain": [
              "<IPython.core.display.Javascript object>"
            ]
          },
          "metadata": {
            "tags": []
          }
        }
      ]
    },
    {
      "cell_type": "code",
      "metadata": {
        "colab": {
          "base_uri": "https://localhost:8080/",
          "height": 142
        },
        "id": "dsI1VpnQrnPv",
        "outputId": "d634f4c7-a08a-4a4b-83f1-006590379c99"
      },
      "source": [
        "GrammySongs = pd.read_csv('grammySongs_1999-2019.csv') \n",
        "GrammySongs= GrammySongs.drop(GrammySongs.columns[0], axis=1)\n",
        "GrammySongs= GrammySongs.drop(GrammySongs.columns[0], axis=1)\n",
        "GrammySongs.head(3)"
      ],
      "execution_count": null,
      "outputs": [
        {
          "output_type": "execute_result",
          "data": {
            "text/html": [
              "<div>\n",
              "<style scoped>\n",
              "    .dataframe tbody tr th:only-of-type {\n",
              "        vertical-align: middle;\n",
              "    }\n",
              "\n",
              "    .dataframe tbody tr th {\n",
              "        vertical-align: top;\n",
              "    }\n",
              "\n",
              "    .dataframe thead th {\n",
              "        text-align: right;\n",
              "    }\n",
              "</style>\n",
              "<table border=\"1\" class=\"dataframe\">\n",
              "  <thead>\n",
              "    <tr style=\"text-align: right;\">\n",
              "      <th></th>\n",
              "      <th>GrammyAward</th>\n",
              "      <th>GrammyYear</th>\n",
              "      <th>Genre</th>\n",
              "      <th>Name</th>\n",
              "      <th>Artist</th>\n",
              "    </tr>\n",
              "  </thead>\n",
              "  <tbody>\n",
              "    <tr>\n",
              "      <th>0</th>\n",
              "      <td>Record Of The Year</td>\n",
              "      <td>2018</td>\n",
              "      <td>General</td>\n",
              "      <td>this is America</td>\n",
              "      <td>Childish Gambino</td>\n",
              "    </tr>\n",
              "    <tr>\n",
              "      <th>1</th>\n",
              "      <td>Song Of The Year</td>\n",
              "      <td>2018</td>\n",
              "      <td>General</td>\n",
              "      <td>this is America</td>\n",
              "      <td>Childish Gambino</td>\n",
              "    </tr>\n",
              "    <tr>\n",
              "      <th>2</th>\n",
              "      <td>Best Pop Solo Performance</td>\n",
              "      <td>2018</td>\n",
              "      <td>Pop</td>\n",
              "      <td>Joanne (where Do you Think You're Goin'?)</td>\n",
              "      <td>Lady Gaga</td>\n",
              "    </tr>\n",
              "  </tbody>\n",
              "</table>\n",
              "</div>"
            ],
            "text/plain": [
              "                 GrammyAward  ...            Artist\n",
              "0         Record Of The Year  ...  Childish Gambino\n",
              "1           Song Of The Year  ...  Childish Gambino\n",
              "2  Best Pop Solo Performance  ...         Lady Gaga\n",
              "\n",
              "[3 rows x 5 columns]"
            ]
          },
          "metadata": {
            "tags": []
          },
          "execution_count": 2
        }
      ]
    },
    {
      "cell_type": "code",
      "metadata": {
        "colab": {
          "base_uri": "https://localhost:8080/",
          "height": 142
        },
        "id": "-hUIBZS_s9uX",
        "outputId": "27c018c1-1827-4224-ac36-08bb1043b3a2"
      },
      "source": [
        "GrammySongs.columns = ['GrammyAward','GrammyYear','Genre','SongName','Artist']\n",
        "GrammySongs.head(3)"
      ],
      "execution_count": null,
      "outputs": [
        {
          "output_type": "execute_result",
          "data": {
            "text/html": [
              "<div>\n",
              "<style scoped>\n",
              "    .dataframe tbody tr th:only-of-type {\n",
              "        vertical-align: middle;\n",
              "    }\n",
              "\n",
              "    .dataframe tbody tr th {\n",
              "        vertical-align: top;\n",
              "    }\n",
              "\n",
              "    .dataframe thead th {\n",
              "        text-align: right;\n",
              "    }\n",
              "</style>\n",
              "<table border=\"1\" class=\"dataframe\">\n",
              "  <thead>\n",
              "    <tr style=\"text-align: right;\">\n",
              "      <th></th>\n",
              "      <th>GrammyAward</th>\n",
              "      <th>GrammyYear</th>\n",
              "      <th>Genre</th>\n",
              "      <th>SongName</th>\n",
              "      <th>Artist</th>\n",
              "    </tr>\n",
              "  </thead>\n",
              "  <tbody>\n",
              "    <tr>\n",
              "      <th>0</th>\n",
              "      <td>Record Of The Year</td>\n",
              "      <td>2018</td>\n",
              "      <td>General</td>\n",
              "      <td>this is America</td>\n",
              "      <td>Childish Gambino</td>\n",
              "    </tr>\n",
              "    <tr>\n",
              "      <th>1</th>\n",
              "      <td>Song Of The Year</td>\n",
              "      <td>2018</td>\n",
              "      <td>General</td>\n",
              "      <td>this is America</td>\n",
              "      <td>Childish Gambino</td>\n",
              "    </tr>\n",
              "    <tr>\n",
              "      <th>2</th>\n",
              "      <td>Best Pop Solo Performance</td>\n",
              "      <td>2018</td>\n",
              "      <td>Pop</td>\n",
              "      <td>Joanne (where Do you Think You're Goin'?)</td>\n",
              "      <td>Lady Gaga</td>\n",
              "    </tr>\n",
              "  </tbody>\n",
              "</table>\n",
              "</div>"
            ],
            "text/plain": [
              "                 GrammyAward  ...            Artist\n",
              "0         Record Of The Year  ...  Childish Gambino\n",
              "1           Song Of The Year  ...  Childish Gambino\n",
              "2  Best Pop Solo Performance  ...         Lady Gaga\n",
              "\n",
              "[3 rows x 5 columns]"
            ]
          },
          "metadata": {
            "tags": []
          },
          "execution_count": 3
        }
      ]
    },
    {
      "cell_type": "code",
      "metadata": {
        "colab": {
          "base_uri": "https://localhost:8080/"
        },
        "id": "rXkqN7nXtTpn",
        "outputId": "f4abbae3-684c-4ecd-de5c-8bb3de49a3a6"
      },
      "source": [
        "print(len(GrammySongs))\n",
        "GrammySongs.groupby(['GrammyAward','GrammyYear']).ngroups"
      ],
      "execution_count": null,
      "outputs": [
        {
          "output_type": "stream",
          "text": [
            "428\n"
          ],
          "name": "stdout"
        },
        {
          "output_type": "execute_result",
          "data": {
            "text/plain": [
              "428"
            ]
          },
          "metadata": {
            "tags": []
          },
          "execution_count": 36
        }
      ]
    },
    {
      "cell_type": "code",
      "metadata": {
        "colab": {
          "base_uri": "https://localhost:8080/",
          "height": 173
        },
        "id": "TkzCjSJYENcy",
        "outputId": "0e659f6b-828c-4bcb-a9cd-c0758426093a"
      },
      "source": [
        "GrammySongs[['GrammyAward','Genre','SongName','Artist']].describe()"
      ],
      "execution_count": null,
      "outputs": [
        {
          "output_type": "execute_result",
          "data": {
            "text/html": [
              "<div>\n",
              "<style scoped>\n",
              "    .dataframe tbody tr th:only-of-type {\n",
              "        vertical-align: middle;\n",
              "    }\n",
              "\n",
              "    .dataframe tbody tr th {\n",
              "        vertical-align: top;\n",
              "    }\n",
              "\n",
              "    .dataframe thead th {\n",
              "        text-align: right;\n",
              "    }\n",
              "</style>\n",
              "<table border=\"1\" class=\"dataframe\">\n",
              "  <thead>\n",
              "    <tr style=\"text-align: right;\">\n",
              "      <th></th>\n",
              "      <th>GrammyAward</th>\n",
              "      <th>Genre</th>\n",
              "      <th>SongName</th>\n",
              "      <th>Artist</th>\n",
              "    </tr>\n",
              "  </thead>\n",
              "  <tbody>\n",
              "    <tr>\n",
              "      <th>count</th>\n",
              "      <td>428</td>\n",
              "      <td>428</td>\n",
              "      <td>428</td>\n",
              "      <td>417</td>\n",
              "    </tr>\n",
              "    <tr>\n",
              "      <th>unique</th>\n",
              "      <td>42</td>\n",
              "      <td>11</td>\n",
              "      <td>362</td>\n",
              "      <td>268</td>\n",
              "    </tr>\n",
              "    <tr>\n",
              "      <th>top</th>\n",
              "      <td>Song Of The Year</td>\n",
              "      <td>Rock</td>\n",
              "      <td>Beautiful Day</td>\n",
              "      <td>Adele</td>\n",
              "    </tr>\n",
              "    <tr>\n",
              "      <th>freq</th>\n",
              "      <td>20</td>\n",
              "      <td>76</td>\n",
              "      <td>3</td>\n",
              "      <td>8</td>\n",
              "    </tr>\n",
              "  </tbody>\n",
              "</table>\n",
              "</div>"
            ],
            "text/plain": [
              "             GrammyAward Genre       SongName Artist\n",
              "count                428   428            428    417\n",
              "unique                42    11            362    268\n",
              "top     Song Of The Year  Rock  Beautiful Day  Adele\n",
              "freq                  20    76              3      8"
            ]
          },
          "metadata": {
            "tags": []
          },
          "execution_count": 14
        }
      ]
    },
    {
      "cell_type": "code",
      "metadata": {
        "colab": {
          "base_uri": "https://localhost:8080/",
          "height": 17
        },
        "id": "-j6GeIZItaaB",
        "outputId": "75878c0d-1da5-4339-a87f-16cc50215d6a"
      },
      "source": [
        "GrammySongs.to_csv('GrammySongs.csv', header=True, index=False, sep='\\t', mode='a')\n",
        "files.download('GrammySongs.csv')"
      ],
      "execution_count": null,
      "outputs": [
        {
          "output_type": "display_data",
          "data": {
            "application/javascript": [
              "\n",
              "    async function download(id, filename, size) {\n",
              "      if (!google.colab.kernel.accessAllowed) {\n",
              "        return;\n",
              "      }\n",
              "      const div = document.createElement('div');\n",
              "      const label = document.createElement('label');\n",
              "      label.textContent = `Downloading \"${filename}\": `;\n",
              "      div.appendChild(label);\n",
              "      const progress = document.createElement('progress');\n",
              "      progress.max = size;\n",
              "      div.appendChild(progress);\n",
              "      document.body.appendChild(div);\n",
              "\n",
              "      const buffers = [];\n",
              "      let downloaded = 0;\n",
              "\n",
              "      const channel = await google.colab.kernel.comms.open(id);\n",
              "      // Send a message to notify the kernel that we're ready.\n",
              "      channel.send({})\n",
              "\n",
              "      for await (const message of channel.messages) {\n",
              "        // Send a message to notify the kernel that we're ready.\n",
              "        channel.send({})\n",
              "        if (message.buffers) {\n",
              "          for (const buffer of message.buffers) {\n",
              "            buffers.push(buffer);\n",
              "            downloaded += buffer.byteLength;\n",
              "            progress.value = downloaded;\n",
              "          }\n",
              "        }\n",
              "      }\n",
              "      const blob = new Blob(buffers, {type: 'application/binary'});\n",
              "      const a = document.createElement('a');\n",
              "      a.href = window.URL.createObjectURL(blob);\n",
              "      a.download = filename;\n",
              "      div.appendChild(a);\n",
              "      a.click();\n",
              "      div.remove();\n",
              "    }\n",
              "  "
            ],
            "text/plain": [
              "<IPython.core.display.Javascript object>"
            ]
          },
          "metadata": {
            "tags": []
          }
        },
        {
          "output_type": "display_data",
          "data": {
            "application/javascript": [
              "download(\"download_c95bdcb6-9022-483f-ac13-6d9a88e5f796\", \"GrammySongs.csv\", 32589)"
            ],
            "text/plain": [
              "<IPython.core.display.Javascript object>"
            ]
          },
          "metadata": {
            "tags": []
          }
        }
      ]
    },
    {
      "cell_type": "markdown",
      "metadata": {
        "id": "s0MFThO0Ix89"
      },
      "source": [
        "# Song Attributes"
      ]
    },
    {
      "cell_type": "code",
      "metadata": {
        "colab": {
          "base_uri": "https://localhost:8080/",
          "height": 142
        },
        "id": "g6bCykf8txmZ",
        "outputId": "74445f33-d4f3-40c3-a69c-c5dd5d65ae98"
      },
      "source": [
        "SongAttributes = pd.read_csv('songAttributes_1999-2019.csv')\n",
        "SongAttributes = SongAttributes.drop(SongAttributes.columns[0], axis=1)\n",
        "SongAttributes = SongAttributes.drop(['Acousticness','Danceability','Duration','Energy','Instrumentalness','Liveness','Loudness','Speechiness','Valence'],axis=1)\n",
        "SongAttributes.head(3)"
      ],
      "execution_count": null,
      "outputs": [
        {
          "output_type": "execute_result",
          "data": {
            "text/html": [
              "<div>\n",
              "<style scoped>\n",
              "    .dataframe tbody tr th:only-of-type {\n",
              "        vertical-align: middle;\n",
              "    }\n",
              "\n",
              "    .dataframe tbody tr th {\n",
              "        vertical-align: top;\n",
              "    }\n",
              "\n",
              "    .dataframe thead th {\n",
              "        text-align: right;\n",
              "    }\n",
              "</style>\n",
              "<table border=\"1\" class=\"dataframe\">\n",
              "  <thead>\n",
              "    <tr style=\"text-align: right;\">\n",
              "      <th></th>\n",
              "      <th>Album</th>\n",
              "      <th>Artist</th>\n",
              "      <th>Explicit</th>\n",
              "      <th>Mode</th>\n",
              "      <th>Name</th>\n",
              "      <th>Popularity</th>\n",
              "      <th>Tempo</th>\n",
              "      <th>TimeSignature</th>\n",
              "    </tr>\n",
              "  </thead>\n",
              "  <tbody>\n",
              "    <tr>\n",
              "      <th>0</th>\n",
              "      <td>Collective Soul (Deluxe Version)</td>\n",
              "      <td>Collective Soul</td>\n",
              "      <td>False</td>\n",
              "      <td>1</td>\n",
              "      <td>Welcome All Again</td>\n",
              "      <td>35</td>\n",
              "      <td>106.022</td>\n",
              "      <td>4</td>\n",
              "    </tr>\n",
              "    <tr>\n",
              "      <th>1</th>\n",
              "      <td>Collective Soul (Deluxe Version)</td>\n",
              "      <td>Collective Soul</td>\n",
              "      <td>False</td>\n",
              "      <td>1</td>\n",
              "      <td>Fuzzy</td>\n",
              "      <td>31</td>\n",
              "      <td>120.027</td>\n",
              "      <td>4</td>\n",
              "    </tr>\n",
              "    <tr>\n",
              "      <th>2</th>\n",
              "      <td>Collective Soul (Deluxe Version)</td>\n",
              "      <td>Collective Soul</td>\n",
              "      <td>False</td>\n",
              "      <td>0</td>\n",
              "      <td>Dig</td>\n",
              "      <td>30</td>\n",
              "      <td>144.061</td>\n",
              "      <td>4</td>\n",
              "    </tr>\n",
              "  </tbody>\n",
              "</table>\n",
              "</div>"
            ],
            "text/plain": [
              "                              Album           Artist  ...    Tempo  TimeSignature\n",
              "0  Collective Soul (Deluxe Version)  Collective Soul  ...  106.022              4\n",
              "1  Collective Soul (Deluxe Version)  Collective Soul  ...  120.027              4\n",
              "2  Collective Soul (Deluxe Version)  Collective Soul  ...  144.061              4\n",
              "\n",
              "[3 rows x 8 columns]"
            ]
          },
          "metadata": {
            "tags": []
          },
          "execution_count": 43
        }
      ]
    },
    {
      "cell_type": "markdown",
      "metadata": {
        "id": "E5s8HqbbI3ce"
      },
      "source": [
        "# RIAA"
      ]
    },
    {
      "cell_type": "code",
      "metadata": {
        "colab": {
          "base_uri": "https://localhost:8080/",
          "height": 142
        },
        "id": "HIY3gd2D-r92",
        "outputId": "45689683-1076-4c22-a5d6-a66194c77b28"
      },
      "source": [
        "import pandas as pd\n",
        "riaaAlbum = pd.read_csv('riaaAlbumCerts_1999-2019.csv')\n",
        "riaaAlbum = riaaAlbum.drop(riaaAlbum.columns[0], axis=1)\n",
        "riaaAlbum.head(3)"
      ],
      "execution_count": null,
      "outputs": [
        {
          "output_type": "execute_result",
          "data": {
            "text/html": [
              "<div>\n",
              "<style scoped>\n",
              "    .dataframe tbody tr th:only-of-type {\n",
              "        vertical-align: middle;\n",
              "    }\n",
              "\n",
              "    .dataframe tbody tr th {\n",
              "        vertical-align: top;\n",
              "    }\n",
              "\n",
              "    .dataframe thead th {\n",
              "        text-align: right;\n",
              "    }\n",
              "</style>\n",
              "<table border=\"1\" class=\"dataframe\">\n",
              "  <thead>\n",
              "    <tr style=\"text-align: right;\">\n",
              "      <th></th>\n",
              "      <th>Album</th>\n",
              "      <th>Artist</th>\n",
              "      <th>Status</th>\n",
              "      <th>Label</th>\n",
              "    </tr>\n",
              "  </thead>\n",
              "  <tbody>\n",
              "    <tr>\n",
              "      <th>0</th>\n",
              "      <td>GREATEST HITS</td>\n",
              "      <td>MARIAH CAREY</td>\n",
              "      <td>2x Multi-Platinum</td>\n",
              "      <td>LEGACY</td>\n",
              "    </tr>\n",
              "    <tr>\n",
              "      <th>1</th>\n",
              "      <td>THE REMIXES</td>\n",
              "      <td>MARIAH CAREY</td>\n",
              "      <td>Gold</td>\n",
              "      <td>COLUMBIA</td>\n",
              "    </tr>\n",
              "    <tr>\n",
              "      <th>2</th>\n",
              "      <td>VIEWS</td>\n",
              "      <td>DRAKE</td>\n",
              "      <td>6x Multi-Platinum</td>\n",
              "      <td>REPUBLIC RECORDS / CASH MONEY RECORDS / YOUNG...</td>\n",
              "    </tr>\n",
              "  </tbody>\n",
              "</table>\n",
              "</div>"
            ],
            "text/plain": [
              "            Album  ...                                              Label\n",
              "0   GREATEST HITS  ...                                             LEGACY\n",
              "1     THE REMIXES  ...                                           COLUMBIA\n",
              "2           VIEWS  ...   REPUBLIC RECORDS / CASH MONEY RECORDS / YOUNG...\n",
              "\n",
              "[3 rows x 4 columns]"
            ]
          },
          "metadata": {
            "tags": []
          },
          "execution_count": 3
        }
      ]
    },
    {
      "cell_type": "code",
      "metadata": {
        "colab": {
          "base_uri": "https://localhost:8080/"
        },
        "id": "ePsrOqiQiy_8",
        "outputId": "c84aa0c2-1068-4e9c-ec38-9531dfcbb884"
      },
      "source": [
        "print(len(riaaAlbum))\n",
        "riaaAlbum.groupby(['Album','Artist']).ngroups"
      ],
      "execution_count": null,
      "outputs": [
        {
          "output_type": "stream",
          "text": [
            "1731\n"
          ],
          "name": "stdout"
        },
        {
          "output_type": "execute_result",
          "data": {
            "text/plain": [
              "1725"
            ]
          },
          "metadata": {
            "tags": []
          },
          "execution_count": 4
        }
      ]
    },
    {
      "cell_type": "code",
      "metadata": {
        "colab": {
          "base_uri": "https://localhost:8080/",
          "height": 17
        },
        "id": "F4fA6ysBi_ik",
        "outputId": "2028fb5b-8eb4-48a8-cc2e-e04bcd48c894"
      },
      "source": [
        "from google.colab import files\n",
        "riaaAlbum.to_csv('riaaAlbum.csv', header=True, index=False, sep='\\t', mode='a')\n",
        "files.download('riaaAlbum.csv')"
      ],
      "execution_count": null,
      "outputs": [
        {
          "output_type": "display_data",
          "data": {
            "application/javascript": [
              "\n",
              "    async function download(id, filename, size) {\n",
              "      if (!google.colab.kernel.accessAllowed) {\n",
              "        return;\n",
              "      }\n",
              "      const div = document.createElement('div');\n",
              "      const label = document.createElement('label');\n",
              "      label.textContent = `Downloading \"${filename}\": `;\n",
              "      div.appendChild(label);\n",
              "      const progress = document.createElement('progress');\n",
              "      progress.max = size;\n",
              "      div.appendChild(progress);\n",
              "      document.body.appendChild(div);\n",
              "\n",
              "      const buffers = [];\n",
              "      let downloaded = 0;\n",
              "\n",
              "      const channel = await google.colab.kernel.comms.open(id);\n",
              "      // Send a message to notify the kernel that we're ready.\n",
              "      channel.send({})\n",
              "\n",
              "      for await (const message of channel.messages) {\n",
              "        // Send a message to notify the kernel that we're ready.\n",
              "        channel.send({})\n",
              "        if (message.buffers) {\n",
              "          for (const buffer of message.buffers) {\n",
              "            buffers.push(buffer);\n",
              "            downloaded += buffer.byteLength;\n",
              "            progress.value = downloaded;\n",
              "          }\n",
              "        }\n",
              "      }\n",
              "      const blob = new Blob(buffers, {type: 'application/binary'});\n",
              "      const a = document.createElement('a');\n",
              "      a.href = window.URL.createObjectURL(blob);\n",
              "      a.download = filename;\n",
              "      div.appendChild(a);\n",
              "      a.click();\n",
              "      div.remove();\n",
              "    }\n",
              "  "
            ],
            "text/plain": [
              "<IPython.core.display.Javascript object>"
            ]
          },
          "metadata": {
            "tags": []
          }
        },
        {
          "output_type": "display_data",
          "data": {
            "application/javascript": [
              "download(\"download_ddfc523c-8395-45ff-a66d-bfa7710eeca8\", \"riaaAlbum.csv\", 91590)"
            ],
            "text/plain": [
              "<IPython.core.display.Javascript object>"
            ]
          },
          "metadata": {
            "tags": []
          }
        }
      ]
    },
    {
      "cell_type": "code",
      "metadata": {
        "colab": {
          "base_uri": "https://localhost:8080/",
          "height": 142
        },
        "id": "bCFZSXJwjMEZ",
        "outputId": "fd28a120-42c2-484d-cc05-f24dffb15271"
      },
      "source": [
        "riaaSingle = pd.read_csv('riaaSingleCerts_1999-2019.csv')\n",
        "riaaSingle = riaaSingle.drop(riaaSingle.columns[0], axis=1)\n",
        "riaaSingle.columns = ['SongName','Artist','RiaaStatus','Label']\n",
        "riaaSingle.head(3)"
      ],
      "execution_count": null,
      "outputs": [
        {
          "output_type": "execute_result",
          "data": {
            "text/html": [
              "<div>\n",
              "<style scoped>\n",
              "    .dataframe tbody tr th:only-of-type {\n",
              "        vertical-align: middle;\n",
              "    }\n",
              "\n",
              "    .dataframe tbody tr th {\n",
              "        vertical-align: top;\n",
              "    }\n",
              "\n",
              "    .dataframe thead th {\n",
              "        text-align: right;\n",
              "    }\n",
              "</style>\n",
              "<table border=\"1\" class=\"dataframe\">\n",
              "  <thead>\n",
              "    <tr style=\"text-align: right;\">\n",
              "      <th></th>\n",
              "      <th>SongName</th>\n",
              "      <th>Artist</th>\n",
              "      <th>RiaaStatus</th>\n",
              "      <th>Label</th>\n",
              "    </tr>\n",
              "  </thead>\n",
              "  <tbody>\n",
              "    <tr>\n",
              "      <th>0</th>\n",
              "      <td>Wish Wish</td>\n",
              "      <td>Dj Khaled</td>\n",
              "      <td>Gold</td>\n",
              "      <td>We the Best / Epic</td>\n",
              "    </tr>\n",
              "    <tr>\n",
              "      <th>1</th>\n",
              "      <td>Level Up</td>\n",
              "      <td>Ciara</td>\n",
              "      <td>1x Platinum</td>\n",
              "      <td>Beauty Marks Entertainment</td>\n",
              "    </tr>\n",
              "    <tr>\n",
              "      <th>2</th>\n",
              "      <td>Con Calma</td>\n",
              "      <td>Daddy Yankee</td>\n",
              "      <td>11x Diamond</td>\n",
              "      <td>Universal Music Latino / El Cartel Records</td>\n",
              "    </tr>\n",
              "  </tbody>\n",
              "</table>\n",
              "</div>"
            ],
            "text/plain": [
              "     SongName  ...                                       Label\n",
              "0  Wish Wish   ...                          We the Best / Epic\n",
              "1    Level Up  ...                  Beauty Marks Entertainment\n",
              "2  Con Calma   ...  Universal Music Latino / El Cartel Records\n",
              "\n",
              "[3 rows x 4 columns]"
            ]
          },
          "metadata": {
            "tags": []
          },
          "execution_count": 8
        }
      ]
    },
    {
      "cell_type": "code",
      "metadata": {
        "id": "fCkk5SU0kEtG"
      },
      "source": [
        "# print(len(riaaSingle))\n",
        "# riaaSingle.groupby(['SongName','Artist']).ngroups"
      ],
      "execution_count": null,
      "outputs": []
    },
    {
      "cell_type": "code",
      "metadata": {
        "colab": {
          "base_uri": "https://localhost:8080/",
          "height": 173
        },
        "id": "8iySCyeMEd_f",
        "outputId": "cb3ebde8-4b08-4fbb-ac5c-065b51a2278d"
      },
      "source": [
        "riaaSingle.describe()"
      ],
      "execution_count": null,
      "outputs": [
        {
          "output_type": "execute_result",
          "data": {
            "text/html": [
              "<div>\n",
              "<style scoped>\n",
              "    .dataframe tbody tr th:only-of-type {\n",
              "        vertical-align: middle;\n",
              "    }\n",
              "\n",
              "    .dataframe tbody tr th {\n",
              "        vertical-align: top;\n",
              "    }\n",
              "\n",
              "    .dataframe thead th {\n",
              "        text-align: right;\n",
              "    }\n",
              "</style>\n",
              "<table border=\"1\" class=\"dataframe\">\n",
              "  <thead>\n",
              "    <tr style=\"text-align: right;\">\n",
              "      <th></th>\n",
              "      <th>SongName</th>\n",
              "      <th>Artist</th>\n",
              "      <th>RiaaStatus</th>\n",
              "      <th>Label</th>\n",
              "    </tr>\n",
              "  </thead>\n",
              "  <tbody>\n",
              "    <tr>\n",
              "      <th>count</th>\n",
              "      <td>2601</td>\n",
              "      <td>2601</td>\n",
              "      <td>2601</td>\n",
              "      <td>2601</td>\n",
              "    </tr>\n",
              "    <tr>\n",
              "      <th>unique</th>\n",
              "      <td>2395</td>\n",
              "      <td>521</td>\n",
              "      <td>20</td>\n",
              "      <td>311</td>\n",
              "    </tr>\n",
              "    <tr>\n",
              "      <th>top</th>\n",
              "      <td>Home</td>\n",
              "      <td>Drake</td>\n",
              "      <td>Gold</td>\n",
              "      <td>Atlantic Records</td>\n",
              "    </tr>\n",
              "    <tr>\n",
              "      <th>freq</th>\n",
              "      <td>6</td>\n",
              "      <td>71</td>\n",
              "      <td>1109</td>\n",
              "      <td>159</td>\n",
              "    </tr>\n",
              "  </tbody>\n",
              "</table>\n",
              "</div>"
            ],
            "text/plain": [
              "       SongName Artist RiaaStatus             Label\n",
              "count      2601   2601       2601              2601\n",
              "unique     2395    521         20               311\n",
              "top        Home  Drake       Gold  Atlantic Records\n",
              "freq          6     71       1109               159"
            ]
          },
          "metadata": {
            "tags": []
          },
          "execution_count": 11
        }
      ]
    },
    {
      "cell_type": "code",
      "metadata": {
        "colab": {
          "base_uri": "https://localhost:8080/",
          "height": 17
        },
        "id": "2SflRTkikzKu",
        "outputId": "6f099f39-b6f6-41a4-8709-fb9e3d15d7db"
      },
      "source": [
        "riaaSingle.to_csv('riaaSingle.csv', header=True, index=False, sep='\\t', mode='a')\n",
        "files.download('riaaSingle.csv')"
      ],
      "execution_count": null,
      "outputs": [
        {
          "output_type": "display_data",
          "data": {
            "application/javascript": [
              "\n",
              "    async function download(id, filename, size) {\n",
              "      if (!google.colab.kernel.accessAllowed) {\n",
              "        return;\n",
              "      }\n",
              "      const div = document.createElement('div');\n",
              "      const label = document.createElement('label');\n",
              "      label.textContent = `Downloading \"${filename}\": `;\n",
              "      div.appendChild(label);\n",
              "      const progress = document.createElement('progress');\n",
              "      progress.max = size;\n",
              "      div.appendChild(progress);\n",
              "      document.body.appendChild(div);\n",
              "\n",
              "      const buffers = [];\n",
              "      let downloaded = 0;\n",
              "\n",
              "      const channel = await google.colab.kernel.comms.open(id);\n",
              "      // Send a message to notify the kernel that we're ready.\n",
              "      channel.send({})\n",
              "\n",
              "      for await (const message of channel.messages) {\n",
              "        // Send a message to notify the kernel that we're ready.\n",
              "        channel.send({})\n",
              "        if (message.buffers) {\n",
              "          for (const buffer of message.buffers) {\n",
              "            buffers.push(buffer);\n",
              "            downloaded += buffer.byteLength;\n",
              "            progress.value = downloaded;\n",
              "          }\n",
              "        }\n",
              "      }\n",
              "      const blob = new Blob(buffers, {type: 'application/binary'});\n",
              "      const a = document.createElement('a');\n",
              "      a.href = window.URL.createObjectURL(blob);\n",
              "      a.download = filename;\n",
              "      div.appendChild(a);\n",
              "      a.click();\n",
              "      div.remove();\n",
              "    }\n",
              "  "
            ],
            "text/plain": [
              "<IPython.core.display.Javascript object>"
            ]
          },
          "metadata": {
            "tags": []
          }
        },
        {
          "output_type": "display_data",
          "data": {
            "application/javascript": [
              "download(\"download_5eef7b7c-b21a-4a43-92af-f59ef252cb61\", \"riaaSingle.csv\", 139180)"
            ],
            "text/plain": [
              "<IPython.core.display.Javascript object>"
            ]
          },
          "metadata": {
            "tags": []
          }
        }
      ]
    },
    {
      "cell_type": "code",
      "metadata": {
        "id": "GE-d0PYWA_Zf"
      },
      "source": [
        "# Save as .sql\n",
        "\n",
        "# from google.colab import files\n",
        "# files.download(\"BB200.sql\")\n",
        "\n",
        "# from sqlalchemy import create_engine \n",
        "# engine = create_engine('sqlite://', echo = False)\n",
        "\n",
        "# BB.to_sql('BB200', con=engine, if_exists='append')\n",
        "# from google.colab import files\n",
        "# files.download(\"BB200.sql\")"
      ],
      "execution_count": null,
      "outputs": []
    }
  ]
}